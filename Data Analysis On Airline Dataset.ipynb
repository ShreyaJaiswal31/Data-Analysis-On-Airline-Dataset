{
 "cells": [
  {
   "cell_type": "markdown",
   "id": "0d235b3e",
   "metadata": {},
   "source": [
    "# AIRLINE DATASET"
   ]
  },
  {
   "cell_type": "markdown",
   "id": "a7d7a0f6",
   "metadata": {},
   "source": [
    "____________________________________________________________________"
   ]
  },
  {
   "cell_type": "code",
   "execution_count": null,
   "id": "636a1887",
   "metadata": {},
   "outputs": [],
   "source": [
    "\n",
    "\n",
    "import numpy as np\n",
    "import pandas as pd\n",
    "import matplotlib.pyplot as plt\n",
    "import seaborn as sns\n",
    "import warnings\n",
    "warnings.filterwarnings(\"ignore\")\n",
    "\n",
    "\n"
   ]
  },
  {
   "cell_type": "code",
   "execution_count": null,
   "id": "7eb22cb3",
   "metadata": {},
   "outputs": [],
   "source": [
    "\n",
    "\n",
    "sns.set(style = 'darkgrid')\n",
    "\n",
    "  "
   ]
  },
  {
   "cell_type": "markdown",
   "id": "bf139f0d",
   "metadata": {},
   "source": [
    "# Reading Dataset and Checking the NaN Values , Data Types , and Statistical Analysis\n",
    "1. Since data is in form of excel file we have to use pandas read_excel to load the data\n",
    "\n",
    "2. After loading it is important to check the complete information of data as it can indication many of the hidden infomation such as null values in a column or a row\n",
    "\n",
    "3. Check whether any null values are there or not. if it is present then following can be done,\n",
    "\n",
    "4. Filling NaN values with mean, median and mode using fillna() method\n",
    "Describe data --> which can give statistical analysis"
   ]
  },
  {
   "cell_type": "code",
   "execution_count": null,
   "id": "f752f41d",
   "metadata": {},
   "outputs": [],
   "source": [
    "\n",
    "\n",
    "df = pd.read_excel(\"Data_Train.xlsx\")\n",
    "\n"
   ]
  },
  {
   "cell_type": "code",
   "execution_count": null,
   "id": "276a173d",
   "metadata": {},
   "outputs": [],
   "source": [
    "\n",
    "df\n"
   ]
  },
  {
   "cell_type": "code",
   "execution_count": null,
   "id": "1ec1c5f0",
   "metadata": {},
   "outputs": [],
   "source": [
    "\n",
    "df.shape\n"
   ]
  },
  {
   "cell_type": "code",
   "execution_count": null,
   "id": "a030841c",
   "metadata": {},
   "outputs": [],
   "source": [
    "df.info()"
   ]
  },
  {
   "cell_type": "code",
   "execution_count": null,
   "id": "c07370e9",
   "metadata": {
    "scrolled": true
   },
   "outputs": [],
   "source": [
    "df.describe()"
   ]
  },
  {
   "cell_type": "code",
   "execution_count": null,
   "id": "13e02911",
   "metadata": {},
   "outputs": [],
   "source": [
    "\n",
    "df.describe(include=object)\n"
   ]
  },
  {
   "cell_type": "code",
   "execution_count": null,
   "id": "c888b699",
   "metadata": {},
   "outputs": [],
   "source": [
    "\n",
    "df.describe(include=float)\n"
   ]
  },
  {
   "cell_type": "code",
   "execution_count": null,
   "id": "927ad697",
   "metadata": {},
   "outputs": [],
   "source": [
    "\n",
    "df.isnull().sum()\n"
   ]
  },
  {
   "cell_type": "code",
   "execution_count": null,
   "id": "002deae2",
   "metadata": {},
   "outputs": [],
   "source": [
    "\n",
    "df.isnull().sum()/df.shape[0]*100\n"
   ]
  },
  {
   "cell_type": "code",
   "execution_count": null,
   "id": "006d1422",
   "metadata": {
    "scrolled": true
   },
   "outputs": [],
   "source": [
    "\n",
    "df['Airline'].mode()\n"
   ]
  },
  {
   "cell_type": "code",
   "execution_count": null,
   "id": "72705bdc",
   "metadata": {},
   "outputs": [],
   "source": [
    "\n",
    "df['Airline']=df['Airline'].fillna(df['Airline'].mode()[0])\n"
   ]
  },
  {
   "cell_type": "code",
   "execution_count": null,
   "id": "3ee0e3db",
   "metadata": {
    "scrolled": true
   },
   "outputs": [],
   "source": [
    "\n",
    "df.isnull().sum()\n"
   ]
  },
  {
   "cell_type": "code",
   "execution_count": null,
   "id": "94c15845",
   "metadata": {},
   "outputs": [],
   "source": [
    "\n",
    "df['Date_of_Journey'].mode()\n"
   ]
  },
  {
   "cell_type": "code",
   "execution_count": null,
   "id": "9a31304e",
   "metadata": {},
   "outputs": [],
   "source": [
    "\n",
    "df['Date_of_Journey']=df['Date_of_Journey'].fillna(df['Date_of_Journey'].mode()[0])\n"
   ]
  },
  {
   "cell_type": "code",
   "execution_count": null,
   "id": "49dbbd74",
   "metadata": {},
   "outputs": [],
   "source": [
    "\n",
    "df['Source'].mode()\n"
   ]
  },
  {
   "cell_type": "code",
   "execution_count": null,
   "id": "2a0ebf99",
   "metadata": {},
   "outputs": [],
   "source": [
    "\n",
    "df['Source']=df['Source'].fillna(df['Source'].mode()[0])\n"
   ]
  },
  {
   "cell_type": "code",
   "execution_count": null,
   "id": "d1d5e98a",
   "metadata": {},
   "outputs": [],
   "source": [
    "\n",
    "df['Destination'].mode()\n"
   ]
  },
  {
   "cell_type": "code",
   "execution_count": null,
   "id": "9552ad4e",
   "metadata": {},
   "outputs": [],
   "source": [
    "\n",
    "df['Destination']=df['Destination'].fillna(df['Destination'].mode()[0])\n"
   ]
  },
  {
   "cell_type": "code",
   "execution_count": null,
   "id": "bb2e0fcf",
   "metadata": {},
   "outputs": [],
   "source": [
    "df['Route'].mode()"
   ]
  },
  {
   "cell_type": "code",
   "execution_count": null,
   "id": "9cd77b86",
   "metadata": {},
   "outputs": [],
   "source": [
    "\n",
    "df['Route']=df['Route'].fillna(df['Route'].mode()[0])\n"
   ]
  },
  {
   "cell_type": "code",
   "execution_count": null,
   "id": "56596e38",
   "metadata": {},
   "outputs": [],
   "source": [
    "\n",
    "df.isnull().sum()\n"
   ]
  },
  {
   "cell_type": "code",
   "execution_count": null,
   "id": "49c220eb",
   "metadata": {},
   "outputs": [],
   "source": [
    "\n",
    "df['Dep_Time'].mode()\n"
   ]
  },
  {
   "cell_type": "code",
   "execution_count": null,
   "id": "6a21f736",
   "metadata": {},
   "outputs": [],
   "source": [
    "\n",
    "df['Dep_Time']=df['Dep_Time'].fillna(df['Dep_Time'].mode()[0])\n"
   ]
  },
  {
   "cell_type": "code",
   "execution_count": null,
   "id": "0407423b",
   "metadata": {},
   "outputs": [],
   "source": [
    "df['Arrival_Time'].mode()"
   ]
  },
  {
   "cell_type": "code",
   "execution_count": null,
   "id": "600bea94",
   "metadata": {},
   "outputs": [],
   "source": [
    "df['Arrival_Time']=df['Arrival_Time'].fillna(df['Arrival_Time'].mode()[0])"
   ]
  },
  {
   "cell_type": "code",
   "execution_count": null,
   "id": "ff084df3",
   "metadata": {},
   "outputs": [],
   "source": [
    "\n",
    "df['Duration'].mode()\n"
   ]
  },
  {
   "cell_type": "code",
   "execution_count": null,
   "id": "eb4aa9c0",
   "metadata": {},
   "outputs": [],
   "source": [
    "\n",
    "df['Duration']=df['Duration'].fillna(df['Duration'].mode()[0])\n"
   ]
  },
  {
   "cell_type": "code",
   "execution_count": null,
   "id": "f60b3471",
   "metadata": {},
   "outputs": [],
   "source": [
    "df['Total_Stops'].mode()"
   ]
  },
  {
   "cell_type": "code",
   "execution_count": null,
   "id": "102c0d4b",
   "metadata": {},
   "outputs": [],
   "source": [
    "df['Total_Stops']=df['Total_Stops'].fillna(df['Total_Stops'].mode()[0])"
   ]
  },
  {
   "cell_type": "code",
   "execution_count": null,
   "id": "b4e64c0b",
   "metadata": {},
   "outputs": [],
   "source": [
    "\n",
    "df['Additional_Info'].mode()\n"
   ]
  },
  {
   "cell_type": "code",
   "execution_count": null,
   "id": "0bc03dbd",
   "metadata": {},
   "outputs": [],
   "source": [
    "df['Additional_Info']=df['Additional_Info'].fillna(df['Additional_Info'].mode()[0])"
   ]
  },
  {
   "cell_type": "code",
   "execution_count": null,
   "id": "03965c5b",
   "metadata": {},
   "outputs": [],
   "source": [
    "df['Price'].mean()"
   ]
  },
  {
   "cell_type": "code",
   "execution_count": null,
   "id": "fc6c182c",
   "metadata": {},
   "outputs": [],
   "source": [
    "df['Price'].median()"
   ]
  },
  {
   "cell_type": "code",
   "execution_count": null,
   "id": "54e8d4a2",
   "metadata": {},
   "outputs": [],
   "source": [
    "sns.boxplot(df.Price,color='red')"
   ]
  },
  {
   "cell_type": "code",
   "execution_count": null,
   "id": "9cfdd4ad",
   "metadata": {},
   "outputs": [],
   "source": [
    "df['Price']=df['Price'].fillna(df['Price'].mean())"
   ]
  },
  {
   "cell_type": "code",
   "execution_count": null,
   "id": "b18b666f",
   "metadata": {},
   "outputs": [],
   "source": [
    "df.isnull().sum()"
   ]
  },
  {
   "cell_type": "markdown",
   "id": "b7400167",
   "metadata": {},
   "source": [
    "# From df.info() we can see that Date_of_Journey is a object data type\n",
    "1. Therefore, we have to convert this datatype into timestamp so that we can use that column properly to find the insights.\n",
    "\n",
    "2. For this we require pandas to_datetime to convert object data type to datetime dtype."
   ]
  },
  {
   "cell_type": "code",
   "execution_count": null,
   "id": "545ccb74",
   "metadata": {},
   "outputs": [],
   "source": [
    "\n",
    "df['Date_of_Journey']=pd.to_datetime(df['Date_of_Journey'])\n",
    "df['Dep_Time']=pd.to_datetime(df['Dep_Time'])\n",
    "df['Arrival_Time']=pd.to_datetime(df['Arrival_Time'])\n",
    "\n"
   ]
  },
  {
   "cell_type": "code",
   "execution_count": null,
   "id": "595fc12a",
   "metadata": {},
   "outputs": [],
   "source": [
    "\n",
    "df.info()\n"
   ]
  },
  {
   "cell_type": "markdown",
   "id": "983ea82d",
   "metadata": {},
   "source": [
    "# We can see that Total_Stops is a Categorical column we can replace that column data into categories"
   ]
  },
  {
   "cell_type": "code",
   "execution_count": null,
   "id": "39979389",
   "metadata": {},
   "outputs": [],
   "source": [
    "df"
   ]
  },
  {
   "cell_type": "code",
   "execution_count": null,
   "id": "c0101493",
   "metadata": {},
   "outputs": [],
   "source": [
    "\n",
    "df.replace({\"non-stop\": 0 , \"1 stop\": 1, \"2 stops\": 2, \"3 stops\": 3, \"4 stops\": 4}, inplace = True)\n"
   ]
  },
  {
   "cell_type": "code",
   "execution_count": null,
   "id": "c94c9fe9",
   "metadata": {},
   "outputs": [],
   "source": [
    "\n",
    "df\n"
   ]
  },
  {
   "cell_type": "markdown",
   "id": "ccf6a57e",
   "metadata": {},
   "source": [
    "# 1st Insights: How many Flights with respect to their Stopages ?"
   ]
  },
  {
   "cell_type": "code",
   "execution_count": null,
   "id": "eec77e8e",
   "metadata": {},
   "outputs": [],
   "source": [
    "\n",
    "\n",
    "# From This Histogram  we can see that no.of flights and their Stopages\n",
    "# In this Data maximum flights have 1 stopages \n",
    "# And there are few flights which have 3rd and 4th stopages \n",
    "\n",
    "plt.title(\"Flights with respect to their Stopages\")\n",
    "plt.hist(df['Total_Stops'], color='red')\n",
    "plt.xlabel(\"STOPS\")\n",
    "plt.ylabel(\"FLIGHTS\")\n",
    "plt.show()\n",
    "\n"
   ]
  },
  {
   "cell_type": "code",
   "execution_count": null,
   "id": "aa031e4d",
   "metadata": {},
   "outputs": [],
   "source": [
    "\n",
    "df['Total_Stops'].value_counts()\n"
   ]
  },
  {
   "cell_type": "markdown",
   "id": "97d1d73c",
   "metadata": {},
   "source": [
    "3481 fligths have 0 Stopages\n",
    "\n",
    "5742 fligths have 1 Stopages\n",
    "\n",
    "1520 fligths have 2 Stopages\n",
    "\n",
    "45   fligths have 3 Stopages\n",
    "\n",
    "1    fligths have 4 Stopages\n"
   ]
  },
  {
   "cell_type": "markdown",
   "id": "5cb19514",
   "metadata": {},
   "source": [
    "# 2nd Insights: What flight is Expensive and Cheaper "
   ]
  },
  {
   "cell_type": "code",
   "execution_count": null,
   "id": "162d853b",
   "metadata": {},
   "outputs": [],
   "source": [
    "df"
   ]
  },
  {
   "cell_type": "code",
   "execution_count": null,
   "id": "dd93e6bc",
   "metadata": {},
   "outputs": [],
   "source": [
    "df.groupby(['Airline'])['Price'].max().sort_values(ascending=False)"
   ]
  },
  {
   "cell_type": "markdown",
   "id": "de706182",
   "metadata": {},
   "source": [
    "Jet Airways Business is most expensive flight and Trujet is cheaper one"
   ]
  },
  {
   "cell_type": "code",
   "execution_count": null,
   "id": "f9291997",
   "metadata": {},
   "outputs": [],
   "source": [
    "sns.boxplot(x='Airline', y='Price', data=df)\n",
    "plt.xticks(rotation=90,size=11)\n",
    "plt.title('Flight vs Prices')\n",
    "plt.show()"
   ]
  },
  {
   "cell_type": "markdown",
   "id": "5039a8eb",
   "metadata": {},
   "source": [
    "# 3rd Insights: Variation of Flight Price from Source"
   ]
  },
  {
   "cell_type": "code",
   "execution_count": null,
   "id": "ef4b2c65",
   "metadata": {},
   "outputs": [],
   "source": [
    "sns.boxplot(x='Source',y='Price', data=df)\n",
    "plt.xticks(rotation=90,size=11)\n",
    "plt.title('SOURCE V/S PRICE')\n",
    "plt.show()\n",
    "\n"
   ]
  },
  {
   "cell_type": "markdown",
   "id": "af4ef5fb",
   "metadata": {},
   "source": [
    "From this boxplot we can see the maximum Outliers are in Bangalore and Minimum in KolKata"
   ]
  },
  {
   "cell_type": "code",
   "execution_count": null,
   "id": "c73cbaf8",
   "metadata": {},
   "outputs": [],
   "source": [
    "df.head(20)"
   ]
  },
  {
   "cell_type": "code",
   "execution_count": null,
   "id": "fb43a7b2",
   "metadata": {},
   "outputs": [],
   "source": [
    "\n",
    "df[df['Total_Stops']==4]\n"
   ]
  },
  {
   "cell_type": "code",
   "execution_count": null,
   "id": "6c33641c",
   "metadata": {
    "scrolled": true
   },
   "outputs": [],
   "source": [
    "\n",
    "df[df['Total_Stops']==3]\n"
   ]
  },
  {
   "cell_type": "code",
   "execution_count": null,
   "id": "93fb6174",
   "metadata": {},
   "outputs": [],
   "source": [
    "\n",
    "df.loc[df['Total_Stops']==2]\n"
   ]
  },
  {
   "cell_type": "code",
   "execution_count": null,
   "id": "203ac9d7",
   "metadata": {},
   "outputs": [],
   "source": [
    "\n",
    "df.loc[df['Total_Stops']==1]\n"
   ]
  },
  {
   "cell_type": "code",
   "execution_count": null,
   "id": "f78754e6",
   "metadata": {},
   "outputs": [],
   "source": [
    "\n",
    "df[df['Total_Stops']==0]\n"
   ]
  },
  {
   "cell_type": "markdown",
   "id": "856336c3",
   "metadata": {},
   "source": [
    "# Extracting Journey Day and Month\n",
    "For this we require pandas to_datetime to convert object data type to datetime dtype.\n",
    "\n",
    ".dt.day method will extract only day of that date\n",
    "\n",
    ".dt.month method will extract only month of that date"
   ]
  },
  {
   "cell_type": "code",
   "execution_count": null,
   "id": "0ee4d696",
   "metadata": {},
   "outputs": [],
   "source": [
    "\n",
    "df['Month_of_Journey']=pd.to_datetime(df['Date_of_Journey']).dt.month\n"
   ]
  },
  {
   "cell_type": "code",
   "execution_count": null,
   "id": "b78bb4ea",
   "metadata": {},
   "outputs": [],
   "source": [
    "\n",
    "df['Day_of_Journey']=pd.to_datetime(df['Date_of_Journey']).dt.day\n"
   ]
  },
  {
   "cell_type": "code",
   "execution_count": null,
   "id": "2d02fcd1",
   "metadata": {},
   "outputs": [],
   "source": [
    "\n",
    "# Since we have converted Date_of_Journey column into integers, Now we can drop as it is of no use.\n",
    "df.drop(columns=['Date_of_Journey'], inplace=True)\n"
   ]
  },
  {
   "cell_type": "code",
   "execution_count": null,
   "id": "2b16bcfc",
   "metadata": {},
   "outputs": [],
   "source": [
    "\n",
    "\n",
    "# Departure time is when a plane leaves the gate. \n",
    "\n",
    "# Extracting Hours\n",
    "df[\"Dep_hour\"] = pd.to_datetime(df[\"Dep_Time\"]).dt.hour\n",
    "\n",
    "# Extracting Minutes\n",
    "df[\"Dep_min\"] = pd.to_datetime(df[\"Dep_Time\"]).dt.minute\n",
    "\n",
    "# Now we can drop Dep_Time as it is of no use\n",
    "df.drop([\"Dep_Time\"], axis = 1, inplace = True)\n",
    "\n"
   ]
  },
  {
   "cell_type": "code",
   "execution_count": null,
   "id": "d626cc3f",
   "metadata": {},
   "outputs": [],
   "source": [
    "# Arrival time is when the plane pulls up to the gate.\n",
    "\n",
    "# Extracting Hours\n",
    "df[\"Arrival_hour\"] = pd.to_datetime(df.Arrival_Time).dt.hour\n",
    "\n",
    "# Extracting Minutes\n",
    "df[\"Arrival_min\"] = pd.to_datetime(df.Arrival_Time).dt.minute\n",
    "\n",
    "# Now we can drop Arrival_Time as it is of no use\n",
    "df.drop([\"Arrival_Time\"], axis = 1, inplace = True)"
   ]
  },
  {
   "cell_type": "code",
   "execution_count": 166,
   "id": "7a20c5fd",
   "metadata": {},
   "outputs": [
    {
     "data": {
      "text/html": [
       "<div>\n",
       "<style scoped>\n",
       "    .dataframe tbody tr th:only-of-type {\n",
       "        vertical-align: middle;\n",
       "    }\n",
       "\n",
       "    .dataframe tbody tr th {\n",
       "        vertical-align: top;\n",
       "    }\n",
       "\n",
       "    .dataframe thead th {\n",
       "        text-align: right;\n",
       "    }\n",
       "</style>\n",
       "<table border=\"1\" class=\"dataframe\">\n",
       "  <thead>\n",
       "    <tr style=\"text-align: right;\">\n",
       "      <th></th>\n",
       "      <th>Airline</th>\n",
       "      <th>Source</th>\n",
       "      <th>Destination</th>\n",
       "      <th>Route</th>\n",
       "      <th>Duration</th>\n",
       "      <th>Total_Stops</th>\n",
       "      <th>Additional_Info</th>\n",
       "      <th>Price</th>\n",
       "      <th>Month_of_Journey</th>\n",
       "      <th>Day_of_Journey</th>\n",
       "      <th>Dep_hour</th>\n",
       "      <th>Dep_min</th>\n",
       "      <th>Arrival_hour</th>\n",
       "      <th>Arrival_min</th>\n",
       "    </tr>\n",
       "  </thead>\n",
       "  <tbody>\n",
       "    <tr>\n",
       "      <th>0</th>\n",
       "      <td>IndiGo</td>\n",
       "      <td>Banglore</td>\n",
       "      <td>New Delhi</td>\n",
       "      <td>BLR → DEL</td>\n",
       "      <td>2h 50m</td>\n",
       "      <td>0</td>\n",
       "      <td>No info</td>\n",
       "      <td>3897.000000</td>\n",
       "      <td>3</td>\n",
       "      <td>24</td>\n",
       "      <td>22</td>\n",
       "      <td>20</td>\n",
       "      <td>1</td>\n",
       "      <td>10</td>\n",
       "    </tr>\n",
       "    <tr>\n",
       "      <th>1</th>\n",
       "      <td>Air India</td>\n",
       "      <td>Kolkata</td>\n",
       "      <td>Banglore</td>\n",
       "      <td>CCU → IXR → BBI → BLR</td>\n",
       "      <td>7h 25m</td>\n",
       "      <td>2</td>\n",
       "      <td>No info</td>\n",
       "      <td>7662.000000</td>\n",
       "      <td>5</td>\n",
       "      <td>1</td>\n",
       "      <td>5</td>\n",
       "      <td>50</td>\n",
       "      <td>13</td>\n",
       "      <td>15</td>\n",
       "    </tr>\n",
       "    <tr>\n",
       "      <th>2</th>\n",
       "      <td>Jet Airways</td>\n",
       "      <td>Delhi</td>\n",
       "      <td>Cochin</td>\n",
       "      <td>DEL → LKO → BOM → COK</td>\n",
       "      <td>19h</td>\n",
       "      <td>2</td>\n",
       "      <td>No info</td>\n",
       "      <td>13882.000000</td>\n",
       "      <td>6</td>\n",
       "      <td>9</td>\n",
       "      <td>9</td>\n",
       "      <td>25</td>\n",
       "      <td>4</td>\n",
       "      <td>25</td>\n",
       "    </tr>\n",
       "    <tr>\n",
       "      <th>3</th>\n",
       "      <td>IndiGo</td>\n",
       "      <td>Kolkata</td>\n",
       "      <td>Banglore</td>\n",
       "      <td>CCU → NAG → BLR</td>\n",
       "      <td>5h 25m</td>\n",
       "      <td>1</td>\n",
       "      <td>No info</td>\n",
       "      <td>6218.000000</td>\n",
       "      <td>5</td>\n",
       "      <td>12</td>\n",
       "      <td>18</td>\n",
       "      <td>5</td>\n",
       "      <td>23</td>\n",
       "      <td>30</td>\n",
       "    </tr>\n",
       "    <tr>\n",
       "      <th>4</th>\n",
       "      <td>IndiGo</td>\n",
       "      <td>Banglore</td>\n",
       "      <td>New Delhi</td>\n",
       "      <td>BLR → NAG → DEL</td>\n",
       "      <td>4h 45m</td>\n",
       "      <td>1</td>\n",
       "      <td>No info</td>\n",
       "      <td>13302.000000</td>\n",
       "      <td>3</td>\n",
       "      <td>1</td>\n",
       "      <td>16</td>\n",
       "      <td>50</td>\n",
       "      <td>21</td>\n",
       "      <td>35</td>\n",
       "    </tr>\n",
       "    <tr>\n",
       "      <th>...</th>\n",
       "      <td>...</td>\n",
       "      <td>...</td>\n",
       "      <td>...</td>\n",
       "      <td>...</td>\n",
       "      <td>...</td>\n",
       "      <td>...</td>\n",
       "      <td>...</td>\n",
       "      <td>...</td>\n",
       "      <td>...</td>\n",
       "      <td>...</td>\n",
       "      <td>...</td>\n",
       "      <td>...</td>\n",
       "      <td>...</td>\n",
       "      <td>...</td>\n",
       "    </tr>\n",
       "    <tr>\n",
       "      <th>10794</th>\n",
       "      <td>Jet Airways</td>\n",
       "      <td>Delhi</td>\n",
       "      <td>Cochin</td>\n",
       "      <td>DEL → BOM → COK</td>\n",
       "      <td>2h 50m</td>\n",
       "      <td>1</td>\n",
       "      <td>No info</td>\n",
       "      <td>9087.064121</td>\n",
       "      <td>5</td>\n",
       "      <td>18</td>\n",
       "      <td>18</td>\n",
       "      <td>55</td>\n",
       "      <td>19</td>\n",
       "      <td>0</td>\n",
       "    </tr>\n",
       "    <tr>\n",
       "      <th>10795</th>\n",
       "      <td>Jet Airways</td>\n",
       "      <td>Delhi</td>\n",
       "      <td>Cochin</td>\n",
       "      <td>DEL → BOM → COK</td>\n",
       "      <td>2h 50m</td>\n",
       "      <td>1</td>\n",
       "      <td>No info</td>\n",
       "      <td>9087.064121</td>\n",
       "      <td>5</td>\n",
       "      <td>18</td>\n",
       "      <td>18</td>\n",
       "      <td>55</td>\n",
       "      <td>19</td>\n",
       "      <td>0</td>\n",
       "    </tr>\n",
       "    <tr>\n",
       "      <th>10796</th>\n",
       "      <td>Jet Airways</td>\n",
       "      <td>Delhi</td>\n",
       "      <td>Cochin</td>\n",
       "      <td>DEL → BOM → COK</td>\n",
       "      <td>2h 50m</td>\n",
       "      <td>1</td>\n",
       "      <td>No info</td>\n",
       "      <td>9087.064121</td>\n",
       "      <td>5</td>\n",
       "      <td>18</td>\n",
       "      <td>18</td>\n",
       "      <td>55</td>\n",
       "      <td>19</td>\n",
       "      <td>0</td>\n",
       "    </tr>\n",
       "    <tr>\n",
       "      <th>10797</th>\n",
       "      <td>Jet Airways</td>\n",
       "      <td>Delhi</td>\n",
       "      <td>Cochin</td>\n",
       "      <td>DEL → BOM → COK</td>\n",
       "      <td>2h 50m</td>\n",
       "      <td>1</td>\n",
       "      <td>No info</td>\n",
       "      <td>9087.064121</td>\n",
       "      <td>5</td>\n",
       "      <td>18</td>\n",
       "      <td>18</td>\n",
       "      <td>55</td>\n",
       "      <td>19</td>\n",
       "      <td>0</td>\n",
       "    </tr>\n",
       "    <tr>\n",
       "      <th>10798</th>\n",
       "      <td>Jet Airways</td>\n",
       "      <td>Delhi</td>\n",
       "      <td>Cochin</td>\n",
       "      <td>DEL → BOM → COK</td>\n",
       "      <td>2h 50m</td>\n",
       "      <td>1</td>\n",
       "      <td>No info</td>\n",
       "      <td>9087.064121</td>\n",
       "      <td>5</td>\n",
       "      <td>18</td>\n",
       "      <td>18</td>\n",
       "      <td>55</td>\n",
       "      <td>19</td>\n",
       "      <td>0</td>\n",
       "    </tr>\n",
       "  </tbody>\n",
       "</table>\n",
       "<p>10799 rows × 14 columns</p>\n",
       "</div>"
      ],
      "text/plain": [
       "           Airline    Source Destination                  Route Duration  \\\n",
       "0           IndiGo  Banglore   New Delhi              BLR → DEL   2h 50m   \n",
       "1        Air India   Kolkata    Banglore  CCU → IXR → BBI → BLR   7h 25m   \n",
       "2      Jet Airways     Delhi      Cochin  DEL → LKO → BOM → COK      19h   \n",
       "3           IndiGo   Kolkata    Banglore        CCU → NAG → BLR   5h 25m   \n",
       "4           IndiGo  Banglore   New Delhi        BLR → NAG → DEL   4h 45m   \n",
       "...            ...       ...         ...                    ...      ...   \n",
       "10794  Jet Airways     Delhi      Cochin        DEL → BOM → COK   2h 50m   \n",
       "10795  Jet Airways     Delhi      Cochin        DEL → BOM → COK   2h 50m   \n",
       "10796  Jet Airways     Delhi      Cochin        DEL → BOM → COK   2h 50m   \n",
       "10797  Jet Airways     Delhi      Cochin        DEL → BOM → COK   2h 50m   \n",
       "10798  Jet Airways     Delhi      Cochin        DEL → BOM → COK   2h 50m   \n",
       "\n",
       "       Total_Stops Additional_Info         Price  Month_of_Journey  \\\n",
       "0                0         No info   3897.000000                 3   \n",
       "1                2         No info   7662.000000                 5   \n",
       "2                2         No info  13882.000000                 6   \n",
       "3                1         No info   6218.000000                 5   \n",
       "4                1         No info  13302.000000                 3   \n",
       "...            ...             ...           ...               ...   \n",
       "10794            1         No info   9087.064121                 5   \n",
       "10795            1         No info   9087.064121                 5   \n",
       "10796            1         No info   9087.064121                 5   \n",
       "10797            1         No info   9087.064121                 5   \n",
       "10798            1         No info   9087.064121                 5   \n",
       "\n",
       "       Day_of_Journey  Dep_hour  Dep_min  Arrival_hour  Arrival_min  \n",
       "0                  24        22       20             1           10  \n",
       "1                   1         5       50            13           15  \n",
       "2                   9         9       25             4           25  \n",
       "3                  12        18        5            23           30  \n",
       "4                   1        16       50            21           35  \n",
       "...               ...       ...      ...           ...          ...  \n",
       "10794              18        18       55            19            0  \n",
       "10795              18        18       55            19            0  \n",
       "10796              18        18       55            19            0  \n",
       "10797              18        18       55            19            0  \n",
       "10798              18        18       55            19            0  \n",
       "\n",
       "[10799 rows x 14 columns]"
      ]
     },
     "execution_count": 166,
     "metadata": {},
     "output_type": "execute_result"
    }
   ],
   "source": [
    "df"
   ]
  },
  {
   "cell_type": "markdown",
   "id": "6621d813",
   "metadata": {},
   "source": [
    "# 4th Insights: On What Day and Month Have Flight Maximum Stopages"
   ]
  },
  {
   "cell_type": "code",
   "execution_count": 168,
   "id": "e143e471",
   "metadata": {},
   "outputs": [
    {
     "data": {
      "image/png": "[encoded data removed]",
      "text/plain": [
       "<Figure size 640x480 with 2 Axes>"
      ]
     },
     "metadata": {},
     "output_type": "display_data"
    }
   ],
   "source": [
    "fiSg, ax = plt.subplots(constrained_layout=True)\n",
    "month=list(df['Month_of_Journey'])\n",
    "stopages=list(df[\"Total_Stops\"])\n",
    "day=list(df['Day_of_Journey'])\n",
    "ax2=ax.twinx()\n",
    "ax.scatter(stopages,month,color=\"skyblue\")\n",
    "ax2.scatter(stopages,day,color=\"lightgreen\")\n",
    "ax.set_xlabel('No of Stops')\n",
    "ax.set_ylabel('Month')\n",
    "ax2.set_ylabel('Day')\n",
    "plt.xticks(rotation=80,size=3)\n",
    "plt.title(\"This scatter plot shows the Journey day,month and stopages of flights\")\n",
    "plt.yticks(day)\n",
    "plt.show()"
   ]
  },
  {
   "cell_type": "markdown",
   "id": "5282d20f",
   "metadata": {},
   "source": [
    "# 5th Insights: On what Month have Maximum Flights Take off ?\n"
   ]
  },
  {
   "cell_type": "code",
   "execution_count": 170,
   "id": "d7c17349",
   "metadata": {},
   "outputs": [
    {
     "data": {
      "image/png": "[encoded data removed]",
      "text/plain": [
       "<Figure size 640x480 with 1 Axes>"
      ]
     },
     "metadata": {},
     "output_type": "display_data"
    }
   ],
   "source": [
    "plt.title(\"Months with Maximum Flights Take off\")\n",
    "plt.scatter(df['Airline'],df['Month_of_Journey'], color='purple')\n",
    "plt.xlabel(\"Airlines\")\n",
    "plt.ylabel(\"Months\")\n",
    "plt.xticks(rotation=90)\n",
    "plt.show()"
   ]
  },
  {
   "cell_type": "markdown",
   "id": "156dcd31",
   "metadata": {},
   "source": [
    "# 6th Insights: What Month has The Maximum Earning"
   ]
  },
  {
   "cell_type": "code",
   "execution_count": 172,
   "id": "d5c64778",
   "metadata": {},
   "outputs": [
    {
     "data": {
      "text/html": [
       "<div>\n",
       "<style scoped>\n",
       "    .dataframe tbody tr th:only-of-type {\n",
       "        vertical-align: middle;\n",
       "    }\n",
       "\n",
       "    .dataframe tbody tr th {\n",
       "        vertical-align: top;\n",
       "    }\n",
       "\n",
       "    .dataframe thead th {\n",
       "        text-align: right;\n",
       "    }\n",
       "</style>\n",
       "<table border=\"1\" class=\"dataframe\">\n",
       "  <thead>\n",
       "    <tr style=\"text-align: right;\">\n",
       "      <th></th>\n",
       "      <th>Airline</th>\n",
       "      <th>Source</th>\n",
       "      <th>Destination</th>\n",
       "      <th>Route</th>\n",
       "      <th>Duration</th>\n",
       "      <th>Total_Stops</th>\n",
       "      <th>Additional_Info</th>\n",
       "      <th>Price</th>\n",
       "      <th>Month_of_Journey</th>\n",
       "      <th>Day_of_Journey</th>\n",
       "      <th>Dep_hour</th>\n",
       "      <th>Dep_min</th>\n",
       "      <th>Arrival_hour</th>\n",
       "      <th>Arrival_min</th>\n",
       "    </tr>\n",
       "  </thead>\n",
       "  <tbody>\n",
       "    <tr>\n",
       "      <th>0</th>\n",
       "      <td>IndiGo</td>\n",
       "      <td>Banglore</td>\n",
       "      <td>New Delhi</td>\n",
       "      <td>BLR → DEL</td>\n",
       "      <td>2h 50m</td>\n",
       "      <td>0</td>\n",
       "      <td>No info</td>\n",
       "      <td>3897.000000</td>\n",
       "      <td>3</td>\n",
       "      <td>24</td>\n",
       "      <td>22</td>\n",
       "      <td>20</td>\n",
       "      <td>1</td>\n",
       "      <td>10</td>\n",
       "    </tr>\n",
       "    <tr>\n",
       "      <th>1</th>\n",
       "      <td>Air India</td>\n",
       "      <td>Kolkata</td>\n",
       "      <td>Banglore</td>\n",
       "      <td>CCU → IXR → BBI → BLR</td>\n",
       "      <td>7h 25m</td>\n",
       "      <td>2</td>\n",
       "      <td>No info</td>\n",
       "      <td>7662.000000</td>\n",
       "      <td>5</td>\n",
       "      <td>1</td>\n",
       "      <td>5</td>\n",
       "      <td>50</td>\n",
       "      <td>13</td>\n",
       "      <td>15</td>\n",
       "    </tr>\n",
       "    <tr>\n",
       "      <th>2</th>\n",
       "      <td>Jet Airways</td>\n",
       "      <td>Delhi</td>\n",
       "      <td>Cochin</td>\n",
       "      <td>DEL → LKO → BOM → COK</td>\n",
       "      <td>19h</td>\n",
       "      <td>2</td>\n",
       "      <td>No info</td>\n",
       "      <td>13882.000000</td>\n",
       "      <td>6</td>\n",
       "      <td>9</td>\n",
       "      <td>9</td>\n",
       "      <td>25</td>\n",
       "      <td>4</td>\n",
       "      <td>25</td>\n",
       "    </tr>\n",
       "    <tr>\n",
       "      <th>3</th>\n",
       "      <td>IndiGo</td>\n",
       "      <td>Kolkata</td>\n",
       "      <td>Banglore</td>\n",
       "      <td>CCU → NAG → BLR</td>\n",
       "      <td>5h 25m</td>\n",
       "      <td>1</td>\n",
       "      <td>No info</td>\n",
       "      <td>6218.000000</td>\n",
       "      <td>5</td>\n",
       "      <td>12</td>\n",
       "      <td>18</td>\n",
       "      <td>5</td>\n",
       "      <td>23</td>\n",
       "      <td>30</td>\n",
       "    </tr>\n",
       "    <tr>\n",
       "      <th>4</th>\n",
       "      <td>IndiGo</td>\n",
       "      <td>Banglore</td>\n",
       "      <td>New Delhi</td>\n",
       "      <td>BLR → NAG → DEL</td>\n",
       "      <td>4h 45m</td>\n",
       "      <td>1</td>\n",
       "      <td>No info</td>\n",
       "      <td>13302.000000</td>\n",
       "      <td>3</td>\n",
       "      <td>1</td>\n",
       "      <td>16</td>\n",
       "      <td>50</td>\n",
       "      <td>21</td>\n",
       "      <td>35</td>\n",
       "    </tr>\n",
       "    <tr>\n",
       "      <th>...</th>\n",
       "      <td>...</td>\n",
       "      <td>...</td>\n",
       "      <td>...</td>\n",
       "      <td>...</td>\n",
       "      <td>...</td>\n",
       "      <td>...</td>\n",
       "      <td>...</td>\n",
       "      <td>...</td>\n",
       "      <td>...</td>\n",
       "      <td>...</td>\n",
       "      <td>...</td>\n",
       "      <td>...</td>\n",
       "      <td>...</td>\n",
       "      <td>...</td>\n",
       "    </tr>\n",
       "    <tr>\n",
       "      <th>10794</th>\n",
       "      <td>Jet Airways</td>\n",
       "      <td>Delhi</td>\n",
       "      <td>Cochin</td>\n",
       "      <td>DEL → BOM → COK</td>\n",
       "      <td>2h 50m</td>\n",
       "      <td>1</td>\n",
       "      <td>No info</td>\n",
       "      <td>9087.064121</td>\n",
       "      <td>5</td>\n",
       "      <td>18</td>\n",
       "      <td>18</td>\n",
       "      <td>55</td>\n",
       "      <td>19</td>\n",
       "      <td>0</td>\n",
       "    </tr>\n",
       "    <tr>\n",
       "      <th>10795</th>\n",
       "      <td>Jet Airways</td>\n",
       "      <td>Delhi</td>\n",
       "      <td>Cochin</td>\n",
       "      <td>DEL → BOM → COK</td>\n",
       "      <td>2h 50m</td>\n",
       "      <td>1</td>\n",
       "      <td>No info</td>\n",
       "      <td>9087.064121</td>\n",
       "      <td>5</td>\n",
       "      <td>18</td>\n",
       "      <td>18</td>\n",
       "      <td>55</td>\n",
       "      <td>19</td>\n",
       "      <td>0</td>\n",
       "    </tr>\n",
       "    <tr>\n",
       "      <th>10796</th>\n",
       "      <td>Jet Airways</td>\n",
       "      <td>Delhi</td>\n",
       "      <td>Cochin</td>\n",
       "      <td>DEL → BOM → COK</td>\n",
       "      <td>2h 50m</td>\n",
       "      <td>1</td>\n",
       "      <td>No info</td>\n",
       "      <td>9087.064121</td>\n",
       "      <td>5</td>\n",
       "      <td>18</td>\n",
       "      <td>18</td>\n",
       "      <td>55</td>\n",
       "      <td>19</td>\n",
       "      <td>0</td>\n",
       "    </tr>\n",
       "    <tr>\n",
       "      <th>10797</th>\n",
       "      <td>Jet Airways</td>\n",
       "      <td>Delhi</td>\n",
       "      <td>Cochin</td>\n",
       "      <td>DEL → BOM → COK</td>\n",
       "      <td>2h 50m</td>\n",
       "      <td>1</td>\n",
       "      <td>No info</td>\n",
       "      <td>9087.064121</td>\n",
       "      <td>5</td>\n",
       "      <td>18</td>\n",
       "      <td>18</td>\n",
       "      <td>55</td>\n",
       "      <td>19</td>\n",
       "      <td>0</td>\n",
       "    </tr>\n",
       "    <tr>\n",
       "      <th>10798</th>\n",
       "      <td>Jet Airways</td>\n",
       "      <td>Delhi</td>\n",
       "      <td>Cochin</td>\n",
       "      <td>DEL → BOM → COK</td>\n",
       "      <td>2h 50m</td>\n",
       "      <td>1</td>\n",
       "      <td>No info</td>\n",
       "      <td>9087.064121</td>\n",
       "      <td>5</td>\n",
       "      <td>18</td>\n",
       "      <td>18</td>\n",
       "      <td>55</td>\n",
       "      <td>19</td>\n",
       "      <td>0</td>\n",
       "    </tr>\n",
       "  </tbody>\n",
       "</table>\n",
       "<p>10799 rows × 14 columns</p>\n",
       "</div>"
      ],
      "text/plain": [
       "           Airline    Source Destination                  Route Duration  \\\n",
       "0           IndiGo  Banglore   New Delhi              BLR → DEL   2h 50m   \n",
       "1        Air India   Kolkata    Banglore  CCU → IXR → BBI → BLR   7h 25m   \n",
       "2      Jet Airways     Delhi      Cochin  DEL → LKO → BOM → COK      19h   \n",
       "3           IndiGo   Kolkata    Banglore        CCU → NAG → BLR   5h 25m   \n",
       "4           IndiGo  Banglore   New Delhi        BLR → NAG → DEL   4h 45m   \n",
       "...            ...       ...         ...                    ...      ...   \n",
       "10794  Jet Airways     Delhi      Cochin        DEL → BOM → COK   2h 50m   \n",
       "10795  Jet Airways     Delhi      Cochin        DEL → BOM → COK   2h 50m   \n",
       "10796  Jet Airways     Delhi      Cochin        DEL → BOM → COK   2h 50m   \n",
       "10797  Jet Airways     Delhi      Cochin        DEL → BOM → COK   2h 50m   \n",
       "10798  Jet Airways     Delhi      Cochin        DEL → BOM → COK   2h 50m   \n",
       "\n",
       "       Total_Stops Additional_Info         Price  Month_of_Journey  \\\n",
       "0                0         No info   3897.000000                 3   \n",
       "1                2         No info   7662.000000                 5   \n",
       "2                2         No info  13882.000000                 6   \n",
       "3                1         No info   6218.000000                 5   \n",
       "4                1         No info  13302.000000                 3   \n",
       "...            ...             ...           ...               ...   \n",
       "10794            1         No info   9087.064121                 5   \n",
       "10795            1         No info   9087.064121                 5   \n",
       "10796            1         No info   9087.064121                 5   \n",
       "10797            1         No info   9087.064121                 5   \n",
       "10798            1         No info   9087.064121                 5   \n",
       "\n",
       "       Day_of_Journey  Dep_hour  Dep_min  Arrival_hour  Arrival_min  \n",
       "0                  24        22       20             1           10  \n",
       "1                   1         5       50            13           15  \n",
       "2                   9         9       25             4           25  \n",
       "3                  12        18        5            23           30  \n",
       "4                   1        16       50            21           35  \n",
       "...               ...       ...      ...           ...          ...  \n",
       "10794              18        18       55            19            0  \n",
       "10795              18        18       55            19            0  \n",
       "10796              18        18       55            19            0  \n",
       "10797              18        18       55            19            0  \n",
       "10798              18        18       55            19            0  \n",
       "\n",
       "[10799 rows x 14 columns]"
      ]
     },
     "execution_count": 172,
     "metadata": {},
     "output_type": "execute_result"
    }
   ],
   "source": [
    "df"
   ]
  },
  {
   "cell_type": "code",
   "execution_count": 174,
   "id": "2ff7f564",
   "metadata": {},
   "outputs": [
    {
     "data": {
      "text/plain": [
       "Month_of_Journey\n",
       "3    2.907381e+07\n",
       "4    6.226744e+06\n",
       "5    3.268914e+07\n",
       "6    3.014151e+07\n",
       "Name: Price, dtype: float64"
      ]
     },
     "execution_count": 174,
     "metadata": {},
     "output_type": "execute_result"
    }
   ],
   "source": [
    "\n",
    "df.groupby(['Month_of_Journey'])['Price'].sum()\n"
   ]
  },
  {
   "cell_type": "markdown",
   "id": "680cf865",
   "metadata": {},
   "source": [
    "Month_of_Journey\n",
    "\n",
    "1     11279591\n",
    "\n",
    "3     18647220\n",
    "\n",
    "4      2217885\n",
    "\n",
    "5     19414875\n",
    "\n",
    "6     23369151\n",
    "\n",
    "9     13429373\n",
    "\n",
    "12     8719011\n",
    "\n",
    "Name: Price, dtype: int64"
   ]
  },
  {
   "cell_type": "code",
   "execution_count": 180,
   "id": "bf60a041",
   "metadata": {},
   "outputs": [
    {
     "data": {
      "image/png": "[encoded data removed]",
      "text/plain": [
       "<Figure size 700x500 with 1 Axes>"
      ]
     },
     "metadata": {},
     "output_type": "display_data"
    }
   ],
   "source": [
    "month_prices = df.groupby(\"Month_of_Journey\")[\"Price\"].sum()\n",
    "\n",
    "plt.figure(figsize=(7,5))\n",
    "plt.title('Representing the Maximum Earning With Respect to Month')\n",
    "keys=[months for months,df in df.groupby([\"Month_of_Journey\"])]\n",
    "\n",
    "plt.bar(month_prices.index, month_prices.values, color='orange')\n",
    "plt.xlabel('Months')\n",
    "plt.ylabel('Prices in Crores')\n",
    "plt.xticks(rotation=90,size=8)\n",
    "plt.show()\n",
    "\n"
   ]
  },
  {
   "cell_type": "code",
   "execution_count": 182,
   "id": "c6e26622",
   "metadata": {},
   "outputs": [
    {
     "data": {
      "text/plain": [
       "array(['Banglore', 'Kolkata', 'Delhi', 'Chennai', 'Mumbai'], dtype=object)"
      ]
     },
     "execution_count": 182,
     "metadata": {},
     "output_type": "execute_result"
    }
   ],
   "source": [
    "\n",
    "df[\"Source\"].unique()\n"
   ]
  },
  {
   "cell_type": "code",
   "execution_count": 184,
   "id": "6ccc1b10",
   "metadata": {},
   "outputs": [
    {
     "data": {
      "text/plain": [
       "array(['IndiGo', 'Air India', 'Jet Airways', 'SpiceJet',\n",
       "       'Multiple carriers', 'GoAir', 'Vistara', 'Air Asia',\n",
       "       'Vistara Premium economy', 'Jet Airways Business',\n",
       "       'Multiple carriers Premium economy', 'Trujet'], dtype=object)"
      ]
     },
     "execution_count": 184,
     "metadata": {},
     "output_type": "execute_result"
    }
   ],
   "source": [
    "\n",
    "df['Airline'].unique()\n"
   ]
  },
  {
   "cell_type": "code",
   "execution_count": 186,
   "id": "f1437dae",
   "metadata": {},
   "outputs": [
    {
     "data": {
      "text/plain": [
       "array(['New Delhi', 'Banglore', 'Cochin', 'Kolkata', 'Delhi', 'Hyderabad'],\n",
       "      dtype=object)"
      ]
     },
     "execution_count": 186,
     "metadata": {},
     "output_type": "execute_result"
    }
   ],
   "source": [
    "\n",
    "df['Destination'].unique()\n"
   ]
  },
  {
   "cell_type": "code",
   "execution_count": 190,
   "id": "d549acd3",
   "metadata": {},
   "outputs": [],
   "source": [
    "\n",
    "\n",
    "#Removing New in New Delhi from Destination column\n",
    "destination=[]\n",
    "for i in df['Destination']:\n",
    "    if i=='New Delhi':\n",
    "        destination.append(i.replace('New Delhi','Delhi'))\n",
    "    else:\n",
    "        destination.append(i)\n",
    "        \n",
    "        "
   ]
  },
  {
   "cell_type": "code",
   "execution_count": 192,
   "id": "90b751ef",
   "metadata": {},
   "outputs": [],
   "source": [
    "#Dropping the Destination column to add the New column\n",
    "df.drop(columns=['Destination'],inplace=True)\n"
   ]
  },
  {
   "cell_type": "code",
   "execution_count": 194,
   "id": "cfcb0297",
   "metadata": {},
   "outputs": [
    {
     "data": {
      "text/html": [
       "<div>\n",
       "<style scoped>\n",
       "    .dataframe tbody tr th:only-of-type {\n",
       "        vertical-align: middle;\n",
       "    }\n",
       "\n",
       "    .dataframe tbody tr th {\n",
       "        vertical-align: top;\n",
       "    }\n",
       "\n",
       "    .dataframe thead th {\n",
       "        text-align: right;\n",
       "    }\n",
       "</style>\n",
       "<table border=\"1\" class=\"dataframe\">\n",
       "  <thead>\n",
       "    <tr style=\"text-align: right;\">\n",
       "      <th></th>\n",
       "      <th>Airline</th>\n",
       "      <th>Source</th>\n",
       "      <th>Route</th>\n",
       "      <th>Duration</th>\n",
       "      <th>Total_Stops</th>\n",
       "      <th>Additional_Info</th>\n",
       "      <th>Price</th>\n",
       "      <th>Month_of_Journey</th>\n",
       "      <th>Day_of_Journey</th>\n",
       "      <th>Dep_hour</th>\n",
       "      <th>Dep_min</th>\n",
       "      <th>Arrival_hour</th>\n",
       "      <th>Arrival_min</th>\n",
       "    </tr>\n",
       "  </thead>\n",
       "  <tbody>\n",
       "    <tr>\n",
       "      <th>0</th>\n",
       "      <td>IndiGo</td>\n",
       "      <td>Banglore</td>\n",
       "      <td>BLR → DEL</td>\n",
       "      <td>2h 50m</td>\n",
       "      <td>0</td>\n",
       "      <td>No info</td>\n",
       "      <td>3897.0</td>\n",
       "      <td>3</td>\n",
       "      <td>24</td>\n",
       "      <td>22</td>\n",
       "      <td>20</td>\n",
       "      <td>1</td>\n",
       "      <td>10</td>\n",
       "    </tr>\n",
       "    <tr>\n",
       "      <th>1</th>\n",
       "      <td>Air India</td>\n",
       "      <td>Kolkata</td>\n",
       "      <td>CCU → IXR → BBI → BLR</td>\n",
       "      <td>7h 25m</td>\n",
       "      <td>2</td>\n",
       "      <td>No info</td>\n",
       "      <td>7662.0</td>\n",
       "      <td>5</td>\n",
       "      <td>1</td>\n",
       "      <td>5</td>\n",
       "      <td>50</td>\n",
       "      <td>13</td>\n",
       "      <td>15</td>\n",
       "    </tr>\n",
       "    <tr>\n",
       "      <th>2</th>\n",
       "      <td>Jet Airways</td>\n",
       "      <td>Delhi</td>\n",
       "      <td>DEL → LKO → BOM → COK</td>\n",
       "      <td>19h</td>\n",
       "      <td>2</td>\n",
       "      <td>No info</td>\n",
       "      <td>13882.0</td>\n",
       "      <td>6</td>\n",
       "      <td>9</td>\n",
       "      <td>9</td>\n",
       "      <td>25</td>\n",
       "      <td>4</td>\n",
       "      <td>25</td>\n",
       "    </tr>\n",
       "  </tbody>\n",
       "</table>\n",
       "</div>"
      ],
      "text/plain": [
       "       Airline    Source                  Route Duration  Total_Stops  \\\n",
       "0       IndiGo  Banglore              BLR → DEL   2h 50m            0   \n",
       "1    Air India   Kolkata  CCU → IXR → BBI → BLR   7h 25m            2   \n",
       "2  Jet Airways     Delhi  DEL → LKO → BOM → COK      19h            2   \n",
       "\n",
       "  Additional_Info    Price  Month_of_Journey  Day_of_Journey  Dep_hour  \\\n",
       "0         No info   3897.0                 3              24        22   \n",
       "1         No info   7662.0                 5               1         5   \n",
       "2         No info  13882.0                 6               9         9   \n",
       "\n",
       "   Dep_min  Arrival_hour  Arrival_min  \n",
       "0       20             1           10  \n",
       "1       50            13           15  \n",
       "2       25             4           25  "
      ]
     },
     "execution_count": 194,
     "metadata": {},
     "output_type": "execute_result"
    }
   ],
   "source": [
    "df.head(3)"
   ]
  },
  {
   "cell_type": "code",
   "execution_count": 196,
   "id": "b8830bd8",
   "metadata": {},
   "outputs": [],
   "source": [
    "#Adding the new Column Destination which have filltered city names\n",
    "df['Destination']=pd.Series(destination)"
   ]
  },
  {
   "cell_type": "code",
   "execution_count": 198,
   "id": "10f16c58",
   "metadata": {},
   "outputs": [
    {
     "data": {
      "text/plain": [
       "['Airline',\n",
       " 'Source',\n",
       " 'Route',\n",
       " 'Duration',\n",
       " 'Total_Stops',\n",
       " 'Additional_Info',\n",
       " 'Price',\n",
       " 'Month_of_Journey',\n",
       " 'Day_of_Journey',\n",
       " 'Dep_hour',\n",
       " 'Dep_min',\n",
       " 'Arrival_hour',\n",
       " 'Arrival_min',\n",
       " 'Destination']"
      ]
     },
     "execution_count": 198,
     "metadata": {},
     "output_type": "execute_result"
    }
   ],
   "source": [
    "# Making list of all columns \n",
    "cols=df.columns.tolist()\n",
    "cols"
   ]
  },
  {
   "cell_type": "code",
   "execution_count": 200,
   "id": "5cf5f9a4",
   "metadata": {},
   "outputs": [
    {
     "data": {
      "text/plain": [
       "['Airline',\n",
       " 'Source',\n",
       " 'Route',\n",
       " 'Destination',\n",
       " 'Duration',\n",
       " 'Total_Stops',\n",
       " 'Additional_Info',\n",
       " 'Price',\n",
       " 'Month_of_Journey',\n",
       " 'Day_of_Journey',\n",
       " 'Dep_hour',\n",
       " 'Dep_min']"
      ]
     },
     "execution_count": 200,
     "metadata": {},
     "output_type": "execute_result"
    }
   ],
   "source": [
    "\n",
    "#Slicing to arrange the position of Destination column\n",
    "cols=cols[0:3]+cols[-1:]+cols[3:11]\n",
    "cols\n"
   ]
  },
  {
   "cell_type": "code",
   "execution_count": 202,
   "id": "fdbe60a0",
   "metadata": {},
   "outputs": [],
   "source": [
    "#Assigning all the column to the dataframe\n",
    "df=df[cols]"
   ]
  },
  {
   "cell_type": "code",
   "execution_count": 204,
   "id": "78f600ed",
   "metadata": {},
   "outputs": [
    {
     "data": {
      "text/html": [
       "<div>\n",
       "<style scoped>\n",
       "    .dataframe tbody tr th:only-of-type {\n",
       "        vertical-align: middle;\n",
       "    }\n",
       "\n",
       "    .dataframe tbody tr th {\n",
       "        vertical-align: top;\n",
       "    }\n",
       "\n",
       "    .dataframe thead th {\n",
       "        text-align: right;\n",
       "    }\n",
       "</style>\n",
       "<table border=\"1\" class=\"dataframe\">\n",
       "  <thead>\n",
       "    <tr style=\"text-align: right;\">\n",
       "      <th></th>\n",
       "      <th>Airline</th>\n",
       "      <th>Source</th>\n",
       "      <th>Route</th>\n",
       "      <th>Destination</th>\n",
       "      <th>Duration</th>\n",
       "      <th>Total_Stops</th>\n",
       "      <th>Additional_Info</th>\n",
       "      <th>Price</th>\n",
       "      <th>Month_of_Journey</th>\n",
       "      <th>Day_of_Journey</th>\n",
       "      <th>Dep_hour</th>\n",
       "      <th>Dep_min</th>\n",
       "    </tr>\n",
       "  </thead>\n",
       "  <tbody>\n",
       "    <tr>\n",
       "      <th>0</th>\n",
       "      <td>IndiGo</td>\n",
       "      <td>Banglore</td>\n",
       "      <td>BLR → DEL</td>\n",
       "      <td>Delhi</td>\n",
       "      <td>2h 50m</td>\n",
       "      <td>0</td>\n",
       "      <td>No info</td>\n",
       "      <td>3897.0</td>\n",
       "      <td>3</td>\n",
       "      <td>24</td>\n",
       "      <td>22</td>\n",
       "      <td>20</td>\n",
       "    </tr>\n",
       "    <tr>\n",
       "      <th>1</th>\n",
       "      <td>Air India</td>\n",
       "      <td>Kolkata</td>\n",
       "      <td>CCU → IXR → BBI → BLR</td>\n",
       "      <td>Banglore</td>\n",
       "      <td>7h 25m</td>\n",
       "      <td>2</td>\n",
       "      <td>No info</td>\n",
       "      <td>7662.0</td>\n",
       "      <td>5</td>\n",
       "      <td>1</td>\n",
       "      <td>5</td>\n",
       "      <td>50</td>\n",
       "    </tr>\n",
       "    <tr>\n",
       "      <th>2</th>\n",
       "      <td>Jet Airways</td>\n",
       "      <td>Delhi</td>\n",
       "      <td>DEL → LKO → BOM → COK</td>\n",
       "      <td>Cochin</td>\n",
       "      <td>19h</td>\n",
       "      <td>2</td>\n",
       "      <td>No info</td>\n",
       "      <td>13882.0</td>\n",
       "      <td>6</td>\n",
       "      <td>9</td>\n",
       "      <td>9</td>\n",
       "      <td>25</td>\n",
       "    </tr>\n",
       "    <tr>\n",
       "      <th>3</th>\n",
       "      <td>IndiGo</td>\n",
       "      <td>Kolkata</td>\n",
       "      <td>CCU → NAG → BLR</td>\n",
       "      <td>Banglore</td>\n",
       "      <td>5h 25m</td>\n",
       "      <td>1</td>\n",
       "      <td>No info</td>\n",
       "      <td>6218.0</td>\n",
       "      <td>5</td>\n",
       "      <td>12</td>\n",
       "      <td>18</td>\n",
       "      <td>5</td>\n",
       "    </tr>\n",
       "  </tbody>\n",
       "</table>\n",
       "</div>"
      ],
      "text/plain": [
       "       Airline    Source                  Route Destination Duration  \\\n",
       "0       IndiGo  Banglore              BLR → DEL       Delhi   2h 50m   \n",
       "1    Air India   Kolkata  CCU → IXR → BBI → BLR    Banglore   7h 25m   \n",
       "2  Jet Airways     Delhi  DEL → LKO → BOM → COK      Cochin      19h   \n",
       "3       IndiGo   Kolkata        CCU → NAG → BLR    Banglore   5h 25m   \n",
       "\n",
       "   Total_Stops Additional_Info    Price  Month_of_Journey  Day_of_Journey  \\\n",
       "0            0         No info   3897.0                 3              24   \n",
       "1            2         No info   7662.0                 5               1   \n",
       "2            2         No info  13882.0                 6               9   \n",
       "3            1         No info   6218.0                 5              12   \n",
       "\n",
       "   Dep_hour  Dep_min  \n",
       "0        22       20  \n",
       "1         5       50  \n",
       "2         9       25  \n",
       "3        18        5  "
      ]
     },
     "execution_count": 204,
     "metadata": {},
     "output_type": "execute_result"
    }
   ],
   "source": [
    "\n",
    "df.head(4)\n"
   ]
  },
  {
   "cell_type": "code",
   "execution_count": 206,
   "id": "0f9dccdd",
   "metadata": {},
   "outputs": [
    {
     "data": {
      "text/plain": [
       "array(['IndiGo', 'Air India', 'Jet Airways', 'SpiceJet',\n",
       "       'Multiple carriers', 'GoAir', 'Vistara', 'Air Asia',\n",
       "       'Vistara Premium economy', 'Jet Airways Business',\n",
       "       'Multiple carriers Premium economy', 'Trujet'], dtype=object)"
      ]
     },
     "execution_count": 206,
     "metadata": {},
     "output_type": "execute_result"
    }
   ],
   "source": [
    "\n",
    "df['Airline'].unique()\n"
   ]
  },
  {
   "cell_type": "code",
   "execution_count": 208,
   "id": "ae106fd2",
   "metadata": {},
   "outputs": [
    {
     "data": {
      "text/plain": [
       "array(['Banglore', 'Kolkata', 'Delhi', 'Chennai', 'Mumbai'], dtype=object)"
      ]
     },
     "execution_count": 208,
     "metadata": {},
     "output_type": "execute_result"
    }
   ],
   "source": [
    "\n",
    "df['Source'].unique()\n"
   ]
  },
  {
   "cell_type": "code",
   "execution_count": 210,
   "id": "62d75523",
   "metadata": {},
   "outputs": [
    {
     "data": {
      "text/plain": [
       "array(['Delhi', 'Banglore', 'Cochin', 'Kolkata', 'Hyderabad'],\n",
       "      dtype=object)"
      ]
     },
     "execution_count": 210,
     "metadata": {},
     "output_type": "execute_result"
    }
   ],
   "source": [
    "\n",
    "df['Destination'].unique()\n"
   ]
  },
  {
   "cell_type": "markdown",
   "id": "07e03ebd",
   "metadata": {},
   "source": [
    "# 7th Insights: Checking the Availablity of Flight with respect to Source and Destination"
   ]
  },
  {
   "cell_type": "code",
   "execution_count": 213,
   "id": "73aa78a5",
   "metadata": {},
   "outputs": [],
   "source": [
    "\n",
    "df1=df.groupby(['Source','Destination',])['Airline'].value_counts()\n"
   ]
  },
  {
   "cell_type": "code",
   "execution_count": 215,
   "id": "20238aee",
   "metadata": {},
   "outputs": [
    {
     "data": {
      "text/plain": [
       "Source    Destination  Airline                          \n",
       "Banglore  Delhi        Jet Airways                           788\n",
       "                       IndiGo                                523\n",
       "                       Air India                             332\n",
       "                       Vistara                               185\n",
       "                       SpiceJet                              181\n",
       "                       GoAir                                  93\n",
       "                       Air Asia                               89\n",
       "                       Jet Airways Business                    4\n",
       "                       Vistara Premium economy                 2\n",
       "Chennai   Kolkata      IndiGo                                184\n",
       "                       SpiceJet                              128\n",
       "                       Vistara                                43\n",
       "                       Air India                              25\n",
       "                       Vistara Premium economy                 1\n",
       "Delhi     Cochin       Jet Airways                          1702\n",
       "                       Multiple carriers                    1196\n",
       "                       Air India                             747\n",
       "                       IndiGo                                705\n",
       "                       SpiceJet                               87\n",
       "                       Air Asia                               80\n",
       "                       GoAir                                  76\n",
       "                       Vistara                                45\n",
       "                       Multiple carriers Premium economy      13\n",
       "                       Jet Airways Business                    2\n",
       "Kolkata   Banglore     Jet Airways                          1256\n",
       "                       Air India                             512\n",
       "                       IndiGo                                445\n",
       "                       SpiceJet                              300\n",
       "                       Vistara                               183\n",
       "                       Air Asia                              150\n",
       "                       GoAir                                  25\n",
       "Mumbai    Hyderabad    Jet Airways                           219\n",
       "                       IndiGo                                196\n",
       "                       Air India                             136\n",
       "                       SpiceJet                              122\n",
       "                       Vistara                                23\n",
       "                       Trujet                                  1\n",
       "Name: count, dtype: int64"
      ]
     },
     "execution_count": 215,
     "metadata": {},
     "output_type": "execute_result"
    }
   ],
   "source": [
    "df1"
   ]
  }
 ],
 "metadata": {
  "kernelspec": {
   "display_name": "Python 3 (ipykernel)",
   "language": "python",
   "name": "python3"
  },
  "language_info": {
   "codemirror_mode": {
    "name": "ipython",
    "version": 3
   },
   "file_extension": ".py",
   "mimetype": "text/x-python",
   "name": "python",
   "nbconvert_exporter": "python",
   "pygments_lexer": "ipython3",
   "version": "3.12.4"
  }
 },
 "nbformat": 4,
 "nbformat_minor": 5
}
